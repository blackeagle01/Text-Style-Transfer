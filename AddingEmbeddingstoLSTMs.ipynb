{
 "cells": [
  {
   "cell_type": "code",
   "execution_count": 2,
   "metadata": {},
   "outputs": [
    {
     "name": "stderr",
     "output_type": "stream",
     "text": [
      "/Users/harshtiku/Desktop/exp/lib/python3.6/site-packages/h5py/__init__.py:36: FutureWarning: Conversion of the second argument of issubdtype from `float` to `np.floating` is deprecated. In future, it will be treated as `np.float64 == np.dtype(float).type`.\n",
      "  from ._conv import register_converters as _register_converters\n",
      "Using TensorFlow backend.\n",
      "/Users/harshtiku/Desktop/exp/lib/python3.6/site-packages/sklearn/cross_validation.py:41: DeprecationWarning: This module was deprecated in version 0.18 in favor of the model_selection module into which all the refactored classes and functions are moved. Also note that the interface of the new CV iterators are different from that of this module. This module will be removed in 0.20.\n",
      "  \"This module will be removed in 0.20.\", DeprecationWarning)\n"
     ]
    }
   ],
   "source": [
    "from keras.layers import Dense,LSTM,Embedding\n",
    "from keras.utils import to_categorical\n",
    "from keras.models import Sequential\n",
    "from sklearn.cross_validation import train_test_split\n",
    "import numpy as np\n",
    "from gensim.models import Word2Vec\n",
    "from keras.preprocessing.text import one_hot\n",
    "from keras.preprocessing.sequence import pad_sequences\n",
    "from keras.models import load_model\n",
    "\n",
    "file=open('kafka.txt')\n",
    "string=file.read()\n",
    "words=string.split()\n",
    "\n",
    "sentences=[words[i:i+5] for i in range(5000)]\n",
    "targets=[words[i+5] for i in range(5000)]\n",
    "\n",
    "\n",
    "vocab=list(set(words[:5005]))\n",
    "\n",
    "words_to_code=dict((i,j) for j,i in enumerate(vocab))\n",
    "code_to_words=dict((i,j) for i,j in enumerate(vocab))\n",
    "newtargets=[words_to_code[w] for w in targets]\n",
    "for i in range(5000):\n",
    "    for j in range(5):\n",
    "        sentences[i][j]=words_to_code[sentences[i][j]]\n",
    "sentences=np.array(sentences)\n",
    "\n",
    "\n",
    "\n",
    "newtargets=to_categorical(newtargets,num_classes=len(vocab))\n",
    "newtargets=np.array(newtargets)\n",
    "\n",
    "model=Sequential()\n",
    "model.add(Embedding(len(vocab),40,input_length=5))\n",
    "model.add(LSTM(40,dropout=0.3,input_shape=(5,40)))\n",
    "model.add(Dense(len(vocab),activation='softmax'))\n",
    "model.compile(loss='categorical_crossentropy',optimizer='adam',metrics=['acc'])\n",
    "\n",
    "X_train,X_test,Y_train,Y_test=train_test_split(sentences,newtargets)"
   ]
  },
  {
   "cell_type": "code",
   "execution_count": 4,
   "metadata": {},
   "outputs": [
    {
     "name": "stdout",
     "output_type": "stream",
     "text": [
      "Epoch 1/10\n",
      "3750/3750 [==============================] - 4s 960us/step - loss: 5.5375 - acc: 0.0536\n",
      "Epoch 2/10\n",
      "3750/3750 [==============================] - 4s 938us/step - loss: 5.4902 - acc: 0.0552\n",
      "Epoch 3/10\n",
      "3750/3750 [==============================] - 4s 944us/step - loss: 5.4443 - acc: 0.0600\n",
      "Epoch 4/10\n",
      "3750/3750 [==============================] - 4s 982us/step - loss: 5.4067 - acc: 0.0600\n",
      "Epoch 5/10\n",
      "3750/3750 [==============================] - 4s 939us/step - loss: 5.3668 - acc: 0.0632\n",
      "Epoch 6/10\n",
      "3750/3750 [==============================] - 4s 948us/step - loss: 5.3218 - acc: 0.0637\n",
      "Epoch 7/10\n",
      "3750/3750 [==============================] - 4s 949us/step - loss: 5.2864 - acc: 0.0659\n",
      "Epoch 8/10\n",
      "3750/3750 [==============================] - 4s 951us/step - loss: 5.2445 - acc: 0.0683\n",
      "Epoch 9/10\n",
      "3750/3750 [==============================] - 4s 958us/step - loss: 5.2054 - acc: 0.0667\n",
      "Epoch 10/10\n",
      "3750/3750 [==============================] - 4s 985us/step - loss: 5.1650 - acc: 0.0739\n"
     ]
    }
   ],
   "source": [
    "history=model.fit(X_train,Y_train,epochs=10,)\n",
    "model.save('newtextmodel.h5')"
   ]
  },
  {
   "cell_type": "code",
   "execution_count": null,
   "metadata": {},
   "outputs": [],
   "source": [
    "?model.fit"
   ]
  },
  {
   "cell_type": "code",
   "execution_count": 5,
   "metadata": {},
   "outputs": [
    {
     "data": {
      "text/plain": [
       "<Figure size 640x480 with 1 Axes>"
      ]
     },
     "metadata": {},
     "output_type": "display_data"
    }
   ],
   "source": [
    "import matplotlib.pyplot as plt\n",
    "plt.plot(history.history['loss'])\n",
    "plt.show()\n"
   ]
  },
  {
   "cell_type": "code",
   "execution_count": 6,
   "metadata": {},
   "outputs": [],
   "source": [
    "def generate_test():\n",
    "    import time\n",
    "    sentence='His room, a proper human'\n",
    "    sentence=sentence.split()\n",
    "    sentence=[words_to_code[w] for w in sentence]\n",
    "    sentence=np.array(sentence)\n",
    "    sentence=sentence.reshape(1,5)\n",
    "    \n",
    "    model=load_model('newtextmodel.h5')\n",
    "    \n",
    "    while True:\n",
    "        x=np.argmax(model.predict(sentence))\n",
    "        print(code_to_words[x],end=' ')\n",
    "        sentence=sentence.flatten()\n",
    "        sentence=sentence.tolist()\n",
    "        sentence.append(x)\n",
    "        sentence=sentence[1:]\n",
    "        sentence=np.array(sentence)\n",
    "        sentence=sentence.reshape(1,5)\n",
    "        time.sleep(1)"
   ]
  },
  {
   "cell_type": "code",
   "execution_count": 7,
   "metadata": {
    "scrolled": true
   },
   "outputs": [
    {
     "name": "stdout",
     "output_type": "stream",
     "text": [
      "clerk His a chief clerk His His His a clerk His His His His His His His His His His His His His His His "
     ]
    },
    {
     "ename": "KeyboardInterrupt",
     "evalue": "",
     "output_type": "error",
     "traceback": [
      "\u001b[0;31m---------------------------------------------------------------------------\u001b[0m",
      "\u001b[0;31mKeyboardInterrupt\u001b[0m                         Traceback (most recent call last)",
      "\u001b[0;32m<ipython-input-7-ea2ada9e3260>\u001b[0m in \u001b[0;36m<module>\u001b[0;34m()\u001b[0m\n\u001b[0;32m----> 1\u001b[0;31m \u001b[0mgenerate_test\u001b[0m\u001b[0;34m(\u001b[0m\u001b[0;34m)\u001b[0m\u001b[0;34m\u001b[0m\u001b[0m\n\u001b[0m",
      "\u001b[0;32m<ipython-input-6-004da5e2e037>\u001b[0m in \u001b[0;36mgenerate_test\u001b[0;34m()\u001b[0m\n\u001b[1;32m     18\u001b[0m         \u001b[0msentence\u001b[0m\u001b[0;34m=\u001b[0m\u001b[0mnp\u001b[0m\u001b[0;34m.\u001b[0m\u001b[0marray\u001b[0m\u001b[0;34m(\u001b[0m\u001b[0msentence\u001b[0m\u001b[0;34m)\u001b[0m\u001b[0;34m\u001b[0m\u001b[0m\n\u001b[1;32m     19\u001b[0m         \u001b[0msentence\u001b[0m\u001b[0;34m=\u001b[0m\u001b[0msentence\u001b[0m\u001b[0;34m.\u001b[0m\u001b[0mreshape\u001b[0m\u001b[0;34m(\u001b[0m\u001b[0;36m1\u001b[0m\u001b[0;34m,\u001b[0m\u001b[0;36m5\u001b[0m\u001b[0;34m)\u001b[0m\u001b[0;34m\u001b[0m\u001b[0m\n\u001b[0;32m---> 20\u001b[0;31m         \u001b[0mtime\u001b[0m\u001b[0;34m.\u001b[0m\u001b[0msleep\u001b[0m\u001b[0;34m(\u001b[0m\u001b[0;36m1\u001b[0m\u001b[0;34m)\u001b[0m\u001b[0;34m\u001b[0m\u001b[0m\n\u001b[0m",
      "\u001b[0;31mKeyboardInterrupt\u001b[0m: "
     ]
    }
   ],
   "source": [
    "generate_test()"
   ]
  },
  {
   "cell_type": "code",
   "execution_count": null,
   "metadata": {},
   "outputs": [],
   "source": []
  },
  {
   "cell_type": "code",
   "execution_count": null,
   "metadata": {},
   "outputs": [],
   "source": []
  }
 ],
 "metadata": {
  "kernelspec": {
   "display_name": "Python 3",
   "language": "python",
   "name": "python3"
  },
  "language_info": {
   "codemirror_mode": {
    "name": "ipython",
    "version": 3
   },
   "file_extension": ".py",
   "mimetype": "text/x-python",
   "name": "python",
   "nbconvert_exporter": "python",
   "pygments_lexer": "ipython3",
   "version": "3.6.4"
  }
 },
 "nbformat": 4,
 "nbformat_minor": 2
}
